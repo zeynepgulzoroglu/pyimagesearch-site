{
 "cells": [
  {
   "cell_type": "markdown",
   "metadata": {},
   "source": [
    "komut satırı"
   ]
  },
  {
   "cell_type": "code",
   "execution_count": 2,
   "metadata": {},
   "outputs": [],
   "source": [
    "import sys\n",
    "import argparse\n",
    "import cv2\n",
    "\n",
    "# Notebook'ta sys.argv / çalıştırmak için\n",
    "sys.argv = ['openCV_tutorial.ipynb', '-i', 'jp.jpg']\n",
    "\n",
    "ap = argparse.ArgumentParser()\n",
    "ap.add_argument(\"-i\", \"--image\", help=\"path to the image\", required=True)\n",
    "args = vars(ap.parse_args())\n",
    "image = cv2.imread(args[\"image\"])\n",
    "cv2.imshow(\"Image\", image)\n",
    "\n",
    "cv2.waitKey(0)\n",
    "cv2.destroyAllWindows()"
   ]
  },
  {
   "cell_type": "markdown",
   "metadata": {},
   "source": [
    "yeniden boyutlandırma"
   ]
  },
  {
   "cell_type": "code",
   "execution_count": 3,
   "metadata": {},
   "outputs": [
    {
     "name": "stdout",
     "output_type": "stream",
     "text": [
      "widht=600, height=384, depth=3\n"
     ]
    }
   ],
   "source": [
    "import imutils\n",
    "import cv2\n",
    "\n",
    "image = cv2.imread(\"jp.jpg\")\n",
    "(h,w,d) = image.shape\n",
    "print(\"widht={}, height={}, depth={}\".format(w,h,d) )\n",
    "cv2.imshow(\"Image\", image)\n",
    "\n",
    "resize = imutils.resize(image, width=300)\n",
    "cv2.imshow(\"Image\", resize)\n",
    "\n",
    "# resized = cv2.resize(image, (200, 200))\n",
    "# cv2.imshow(\"Resized\", resized)\n",
    "\n",
    "# r = 300.0 / w\n",
    "# dim = (300, int(h * r))\n",
    "# resize = cv2.resize(image, dim)\n",
    "# cv2.imshow(\"Aspect ratio resize\", resize)\n",
    "\n",
    "cv2.waitKey(0)\n",
    "cv2.destroyAllWindows()"
   ]
  },
  {
   "cell_type": "markdown",
   "metadata": {},
   "source": [
    "resmi eksen (merkez) etrafında döndürme"
   ]
  },
  {
   "cell_type": "code",
   "execution_count": 4,
   "metadata": {},
   "outputs": [],
   "source": [
    "import imutils\n",
    "import cv2\n",
    "\n",
    "image = cv2.imread(\"jp.jpg\")\n",
    "\n",
    "\"\"\" \n",
    "(h, w, d) = image.shape\n",
    "center = (w // 2, h // 2)\n",
    "M = cv2.getRotationMatrix2D(center, -45, 1.0) # saat yönünde 45 derece döndür\n",
    "rotated = cv2.warpAffine(image, M, (w, h))\n",
    "\"\"\"\n",
    "\n",
    "rotated = imutils.rotate_bound(image, 45) #tek satırda resmi kırpmadan pencereyi büyüterek döndürüyor \n",
    "cv2.imshow(\"OpenCV Rotation\", rotated)\n",
    "\n",
    "cv2.waitKey(0)\n",
    "cv2.destroyAllWindows()"
   ]
  },
  {
   "cell_type": "markdown",
   "metadata": {},
   "source": [
    "resim üzerine yazı yazma"
   ]
  },
  {
   "cell_type": "code",
   "execution_count": null,
   "metadata": {},
   "outputs": [],
   "source": [
    "import imutils\n",
    "import cv2\n",
    "\n",
    "image = cv2.imread(\"jp.jpg\")\n",
    "\n",
    "output = image.copy()\n",
    "cv2.putText(output, \"OpenCV\", (10, 25), cv2.FONT_HERSHEY_SIMPLEX, 0.7, (0, 255, 0), 2) #10,25 başlama konumu/ 0,7 boyut\n",
    "cv2.imshow(\"Text\", output)\n",
    "\n",
    "cv2.waitKey(0)\n",
    "cv2.destroyAllWindows()"
   ]
  },
  {
   "cell_type": "markdown",
   "metadata": {},
   "source": [
    "nesne sayma"
   ]
  },
  {
   "cell_type": "code",
   "execution_count": 7,
   "metadata": {},
   "outputs": [],
   "source": [
    "import cv2\n",
    "import imutils\n",
    "\n",
    "img = cv2.imread(\"blok.jpg\")\n",
    "gray = cv2.cvtColor(img, cv2.COLOR_BGR2GRAY)\n",
    "edged = cv2.Canny(gray, 10, 80)\n",
    "_,thresh = cv2.threshold(gray, 25, 250, cv2.THRESH_BINARY)\n",
    "cnts = cv2.findContours(thresh.copy(), cv2.RETR_EXTERNAL, cv2.CHAIN_APPROX_SIMPLE)\n",
    "cnts = imutils.grab_contours(cnts)\n",
    "\n",
    "for c in cnts:\n",
    "    cv2.drawContours(img, [c], -1, (240, 0, 159), 3)\n",
    "    cv2.imshow(\"Contours\", img)\n",
    "\n",
    "text = \"I found {} objects!\".format(len(cnts))\n",
    "cv2.putText(img, text, (10, 25), cv2.FONT_HERSHEY_SIMPLEX, 0.7, (240, 0, 159), 2)\n",
    "cv2.imshow(\"Contours\", img)\n",
    "\n",
    "cv2.waitKey(0)\n",
    "cv2.destroyAllWindows()\n"
   ]
  },
  {
   "cell_type": "markdown",
   "metadata": {},
   "source": [
    "resim döndürme"
   ]
  },
  {
   "cell_type": "code",
   "execution_count": null,
   "metadata": {},
   "outputs": [],
   "source": [
    "import numpy as np\n",
    "import imutils\n",
    "import cv2\n",
    "import argparse\n",
    "import sys\n",
    "\n",
    "sys.argv = ['openCV_tutorial.ipynb', '-i', 'blok.jpg']\n",
    "\n",
    "ap = argparse.ArgumentParser()\n",
    "ap.add_argument(\"-i\", \"--image\", help=\"path to the image\", required=True)\n",
    "args = vars(ap.parse_args())\n",
    "image = cv2.imread(args[\"image\"])\n",
    "\n",
    "\"\"\"\n",
    "for angle in np.arange(0, 360, 15): # 0-360 değeri arasında 15 derece açılarla\n",
    "    rotated = imutils.rotate(image, angle)\n",
    "    cv2.imshow(\"Rotated -\",rotated)\n",
    "    cv2.waitKey(0)\n",
    "    cv2.destroyAllWindows()\n",
    "\"\"\"\n",
    "\"\"\"\n",
    "for angle in np.arange(0, 360, 30): # 0-360 değeri arasında 15 derece açılarla\n",
    "    rotated = imutils.rotate_bound(image, angle) #bound pencerenin resmi kırpmasını engelliyor\n",
    "    cv2.imshow(\"Rotated +\",rotated)\n",
    "    cv2.waitKey(0)\n",
    "    cv2.destroyAllWindows()\n",
    "\n",
    "\"\"\"\n",
    "def rotate_bound(image, angle):\n",
    "    (h,w) = image.shape[:2]\n",
    "    (cX,cY) = (w//2, h//2)\n",
    "    \n",
    "    M = cv2.getRotationMatrix2D((cX, cY), -angle, 0.5)\n",
    "    cos = np.abs(M[0,0])\n",
    "    sin = np.abs(M[0,1])\n",
    "    \n",
    "    nW = int((h * sin) + (w * cos))\n",
    "    nH = int((h * cos) + (w * sin))\n",
    "    \n",
    "    M[0, 2] += (nW/2) - cX\n",
    "    M[1, 2] += (nH/2) - cY\n",
    "    \n",
    "    return cv2.warpAffine(image, M, (nW, nH)) #görüntünün dönerken hiçbir kısmının kesilmemesine yarar\n",
    "\n",
    "for angle in np.arange(0, 360, 15):\n",
    "    rotated = rotate_bound(image, angle)  \n",
    "    cv2.imshow(\"Rotated Image - Angle: {:.1f}\".format(angle), rotated)  \n",
    "    cv2.waitKey(0)\n",
    "\n",
    "cv2.destroyAllWindows()"
   ]
  },
  {
   "cell_type": "markdown",
   "metadata": {},
   "source": [
    "renk algılama"
   ]
  },
  {
   "cell_type": "code",
   "execution_count": 21,
   "metadata": {},
   "outputs": [],
   "source": [
    "import cv2\n",
    "\n",
    "image = cv2.imread(\"jp.jpg\")\n",
    "\n",
    "\"\"\"\n",
    "cv2.imshow(\"RGB\", image)\n",
    "\n",
    "for (name,chan) in zip ((\"B\", \"G\", \"R\"), cv2.split(image)):\n",
    "    cv2.imshow(name, chan)\n",
    "\"\"\"\n",
    "\"\"\"\n",
    "hsv = cv2.cvtColor(image,cv2.COLOR_BGR2HSV)\n",
    "cv2.imshow(\"HSV\",hsv)\n",
    "\"\"\"\n",
    "\"\"\"\n",
    "lab = cv2.cvtColor(image,cv2.COLOR_BGR2Lab)\n",
    "cv2.imshow(\"L*a*b*\",lab)\n",
    "\n",
    "for (name,chan) in zip ((\"L\", \"a\", \"b\"), cv2.split(image)):\n",
    "    cv2.imshow(name, chan)\n",
    "\"\"\"\n",
    "\n",
    "gray = cv2.cvtColor(image, cv2.COLOR_BGR2GRAY)\n",
    "cv2.imshow(\"orginal\", image)\n",
    "cv2.imshow(\"gray\", gray)\n",
    "\n",
    "cv2.waitKey(0)\n",
    "cv2.destroyAllWindows()"
   ]
  }
 ],
 "metadata": {
  "kernelspec": {
   "display_name": "Python 3",
   "language": "python",
   "name": "python3"
  },
  "language_info": {
   "codemirror_mode": {
    "name": "ipython",
    "version": 3
   },
   "file_extension": ".py",
   "mimetype": "text/x-python",
   "name": "python",
   "nbconvert_exporter": "python",
   "pygments_lexer": "ipython3",
   "version": "3.11.2"
  }
 },
 "nbformat": 4,
 "nbformat_minor": 2
}
