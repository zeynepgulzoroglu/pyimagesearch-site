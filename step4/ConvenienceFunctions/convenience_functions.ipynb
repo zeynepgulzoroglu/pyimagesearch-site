{
 "cells": [
  {
   "cell_type": "markdown",
   "metadata": {},
   "source": [
    "Translation"
   ]
  },
  {
   "cell_type": "code",
   "execution_count": null,
   "metadata": {},
   "outputs": [],
   "source": [
    "import cv2\n",
    "import imutils\n",
    "\n",
    "image = cv2.imread(\"workspace.jpg\")\n",
    "translated = imutils.translate(image, 25, -75)\n",
    "\n",
    "cv2.imshow(\"image\",translated)\n",
    "cv2.waitKey(0)\n",
    "cv2.destroyAllWindows()"
   ]
  },
  {
   "cell_type": "markdown",
   "metadata": {},
   "source": [
    "Rotation"
   ]
  },
  {
   "cell_type": "code",
   "execution_count": null,
   "metadata": {},
   "outputs": [],
   "source": [
    "import cv2\n",
    "import imutils\n",
    "\n",
    "image = cv2.imread(\"bridge.jpg\")\n",
    "\n",
    "for angle in range(0, 360, 90):\n",
    "\trotated = imutils.rotate(image, angle=angle)\n",
    "\tcv2.imshow(\"Angle=%d\" % (angle), rotated)\n",
    " \n",
    "cv2.waitKey(0)\n",
    "cv2.destroyAllWindows()"
   ]
  },
  {
   "cell_type": "markdown",
   "metadata": {},
   "source": [
    "Skeletonization"
   ]
  },
  {
   "cell_type": "code",
   "execution_count": null,
   "metadata": {},
   "outputs": [],
   "source": [
    "import cv2\n",
    "import imutils\n",
    "\n",
    "image = cv2.imread(\"logo.jpg\")\n",
    "gray = cv2.cvtColor(image, cv2.COLOR_BGR2GRAY)\n",
    "skeleton = imutils.skeletonize(gray, size=(3, 3))\n",
    "\n",
    "cv2.imshow(\"Skeleton\", skeleton)\n",
    "cv2.waitKey(0)\n",
    "cv2.destroyAllWindows()"
   ]
  },
  {
   "cell_type": "markdown",
   "metadata": {},
   "source": [
    "Displaying with Matplotlib"
   ]
  },
  {
   "cell_type": "code",
   "execution_count": null,
   "metadata": {},
   "outputs": [],
   "source": [
    "import cv2\n",
    "import imutils\n",
    "import matplotlib.pyplot as plt\n",
    "\n",
    "image = cv2.imread(\"cactus.jpg\")\n",
    "\n",
    "plt.figure(\"Incorrect\")\n",
    "plt.imshow(image)\n",
    "\n",
    "plt.figure(\"Correct\")\n",
    "plt.imshow(imutils.opencv2matplotlib(image))\n",
    "\n",
    "plt.show()"
   ]
  }
 ],
 "metadata": {
  "kernelspec": {
   "display_name": "Python 3",
   "language": "python",
   "name": "python3"
  },
  "language_info": {
   "codemirror_mode": {
    "name": "ipython",
    "version": 3
   },
   "file_extension": ".py",
   "mimetype": "text/x-python",
   "name": "python",
   "nbconvert_exporter": "python",
   "pygments_lexer": "ipython3",
   "version": "3.11.2"
  }
 },
 "nbformat": 4,
 "nbformat_minor": 2
}
